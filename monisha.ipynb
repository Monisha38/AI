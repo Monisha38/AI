{
  "nbformat": 4,
  "nbformat_minor": 0,
  "metadata": {
    "colab": {
      "provenance": []
    },
    "kernelspec": {
      "name": "python3",
      "display_name": "Python 3"
    },
    "language_info": {
      "name": "python"
    }
  },
  "cells": [
    {
      "cell_type": "code",
      "source": [
        "import numpy as np\n",
        "from sklearn.datasets import fetch_20newsgroups\n",
        "from sklearn.feature_extraction.text import TfidfVectorizer\n",
        "from sklearn.model_selection import train_test_split\n",
        "from sklearn.naive_bayes import MultinomialNB\n",
        "from sklearn.metrics import accuracy_score, classification_report\n",
        "\n",
        "# Load the 20 newsgroups dataset\n",
        "categories = ['alt.atheism', 'soc.religion.christian', 'comp.graphics', 'sci.med']\n",
        "newsgroups_train = fetch_20newsgroups(subset='train', categories=categories, remove=('headers', 'footers', 'quotes'))\n",
        "newsgroups_test = fetch_20newsgroups(subset='test', categories=categories, remove=('headers', 'footers', 'quotes'))\n",
        "\n",
        "# Convert text data to TF-IDF features\n",
        "vectorizer = TfidfVectorizer(stop_words='english', max_features=1000)\n",
        "X_train = vectorizer.fit_transform(newsgroups_train.data)\n",
        "X_test = vectorizer.transform(newsgroups_test.data)\n",
        "\n",
        "# Split the data into train and validation sets\n",
        "y_train = newsgroups_train.target\n",
        "y_test = newsgroups_test.target\n",
        "X_train, X_val, y_train, y_val = train_test_split(X_train, y_train, test_size=0.2, random_state=42)\n",
        "\n",
        "# Train a Multinomial Naive Bayes classifier\n",
        "classifier = MultinomialNB()\n",
        "classifier.fit(X_train, y_train)\n",
        "\n",
        "# Predict on the validation set\n",
        "y_pred = classifier.predict(X_val)\n",
        "\n",
        "# Evaluate the classifier\n",
        "accuracy = accuracy_score(y_val, y_pred)\n",
        "print(\"Validation Accuracy:\", accuracy)\n",
        "print(classification_report(y_val, y_pred, target_names=newsgroups_train.target_names))\n",
        "\n",
        "# Predict on the test set\n",
        "y_test_pred = classifier.predict(X_test)\n",
        "\n",
        "# Evaluate the classifier on the test set\n",
        "test_accuracy = accuracy_score(y_test, y_test_pred)\n",
        "print(\"Test Accuracy:\", test_accuracy)\n",
        "print(classification_report(y_test, y_test_pred, target_names=newsgroups_train.target_names))"
      ],
      "metadata": {
        "colab": {
          "base_uri": "https://localhost:8080/"
        },
        "id": "1z73ul4B7D5S",
        "outputId": "faec87ae-7d75-4de2-81d2-848b8040033f"
      },
      "execution_count": null,
      "outputs": [
        {
          "output_type": "stream",
          "name": "stdout",
          "text": [
            "Validation Accuracy: 0.7986725663716814\n",
            "                        precision    recall  f1-score   support\n",
            "\n",
            "           alt.atheism       0.69      0.63      0.66        86\n",
            "         comp.graphics       0.76      0.94      0.84       107\n",
            "               sci.med       0.92      0.74      0.82       132\n",
            "soc.religion.christian       0.81      0.85      0.83       127\n",
            "\n",
            "              accuracy                           0.80       452\n",
            "             macro avg       0.79      0.79      0.79       452\n",
            "          weighted avg       0.81      0.80      0.80       452\n",
            "\n",
            "Test Accuracy: 0.7549933422103862\n",
            "                        precision    recall  f1-score   support\n",
            "\n",
            "           alt.atheism       0.72      0.51      0.60       319\n",
            "         comp.graphics       0.74      0.94      0.83       389\n",
            "               sci.med       0.89      0.71      0.79       396\n",
            "soc.religion.christian       0.70      0.81      0.75       398\n",
            "\n",
            "              accuracy                           0.75      1502\n",
            "             macro avg       0.76      0.74      0.74      1502\n",
            "          weighted avg       0.76      0.75      0.75      1502\n",
            "\n"
          ]
        }
      ]
    },
    {
      "cell_type": "code",
      "source": [],
      "metadata": {
        "id": "d4Np7Gfa41Q5"
      },
      "execution_count": null,
      "outputs": []
    }
  ]
}